{
 "cells": [
  {
   "cell_type": "code",
   "execution_count": 1,
   "metadata": {},
   "outputs": [
    {
     "output_type": "stream",
     "name": "stderr",
     "text": [
      "/home/shane/workspace/eCAMI/proteinIO/preprocessing.py:21: SettingWithCopyWarning: \n",
      "A value is trying to be set on a copy of a slice from a DataFrame.\n",
      "Try using .loc[row_indexer,col_indexer] = value instead\n",
      "\n",
      "See the caveats in the documentation: https://pandas.pydata.org/pandas-docs/stable/user_guide/indexing.html#returning-a-view-versus-a-copy\n",
      "  temp_row['families'] = temp_family\n",
      "10it [00:00, 7822.28it/s]Protein DF shape: (13, 3)\n",
      "Unique protein DF shape: (12, 3)\n",
      "Manipulated unmatched family protein (keep=\"union\") DF shape: (10, 3)\n",
      "Exported: out.fa\n",
      "\n"
     ]
    }
   ],
   "source": [
    "from pathlib import Path\n",
    "import os\n",
    "\n",
    "import proteinIO\n",
    "from proteinIO import fastaIO\n",
    "from proteinIO import preprocessing\n",
    "\n",
    "\n",
    "__file__ = os.getcwd()\n",
    "paths = [Path(__file__) / 'data' / 'dbCAN2' / 'CAZyDB.mini.fa']\n",
    "\n",
    "proteins = fastaIO.read(paths)\n",
    "proteins = preprocessing.manipulate_duplicates(proteins, keep='union')\n",
    "\n",
    "fastaIO.write(proteins)\n",
    "\n",
    "proteins = preprocessing.series2object(proteins)\n",
    "\n",
    "\n"
   ]
  }
 ],
 "metadata": {
  "kernelspec": {
   "name": "python385jvsc74a57bd0984324a7450a2c914db349cb2a66403216f22dfe40e8a2d077ea2b929474934c",
   "display_name": "Python 3.8.5 64-bit ('anaconda3-2020.11': pyenv)"
  },
  "language_info": {
   "codemirror_mode": {
    "name": "ipython",
    "version": 3
   },
   "file_extension": ".py",
   "mimetype": "text/x-python",
   "name": "python",
   "nbconvert_exporter": "python",
   "pygments_lexer": "ipython3",
   "version": "3.8.5"
  },
  "metadata": {
   "interpreter": {
    "hash": "29f5e89dfedf898efe3e6a64f86d1a653ede48a3edabdd8aee99194919683b52"
   }
  }
 },
 "nbformat": 4,
 "nbformat_minor": 4
}