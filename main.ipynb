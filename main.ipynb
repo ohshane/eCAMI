{
 "cells": [
  {
   "cell_type": "code",
   "execution_count": 1,
   "metadata": {},
   "outputs": [
    {
     "output_type": "stream",
     "name": "stderr",
     "text": [
      "/home/sunmoon/workspace/eCAMI/proteinIO/preprocessing.py:21: SettingWithCopyWarning: \n",
      "A value is trying to be set on a copy of a slice from a DataFrame.\n",
      "Try using .loc[row_indexer,col_indexer] = value instead\n",
      "\n",
      "See the caveats in the documentation: https://pandas.pydata.org/pandas-docs/stable/user_guide/indexing.html#returning-a-view-versus-a-copy\n",
      "  temp_row['families'] = temp_family\n",
      "10it [00:00, 8632.03it/s]Protein DF shape: (13, 3)\n",
      "Unique protein DF shape: (12, 3)\n",
      "Manipulated unmatched family protein (keep=\"union\") DF shape: (10, 3)\n",
      "Exported: out.fa\n",
      "  family  count  subfamily ratio\n",
      "0   GH13      5            100.0\n",
      "1    GT4      2             50.0\n",
      "2    GT2      3              0.0\n",
      "3  CBM67      1              0.0\n",
      "4    GH2      1              0.0\n",
      "5   GT30      1              0.0\n",
      "6  CBM48      1              0.0\n",
      "\n"
     ]
    }
   ],
   "source": [
    "from pathlib import Path\n",
    "import os\n",
    "\n",
    "import proteinIO\n",
    "from proteinIO import fastaIO\n",
    "from proteinIO import preprocessing\n",
    "\n",
    "\n",
    "__file__ = os.getcwd()\n",
    "paths = [Path(__file__) / 'data' / 'dbCAN2' / 'CAZyDB.mini.fa']\n",
    "\n",
    "proteins = fastaIO.read(paths)\n",
    "proteins = preprocessing.manipulate_duplicates(proteins, keep='union')\n",
    "\n",
    "fastaIO.write(proteins)\n",
    "\n",
    "proteins = preprocessing.series2object(proteins)\n",
    "shape = preprocessing.shape(proteins)\n",
    "\n"
   ]
  },
  {
   "cell_type": "code",
   "execution_count": null,
   "metadata": {},
   "outputs": [],
   "source": []
  }
 ],
 "metadata": {
  "kernelspec": {
   "name": "python3",
   "display_name": "Python 3.8.8 64-bit ('anaconda3-2021.05': pyenv)"
  },
  "language_info": {
   "codemirror_mode": {
    "name": "ipython",
    "version": 3
   },
   "file_extension": ".py",
   "mimetype": "text/x-python",
   "name": "python",
   "nbconvert_exporter": "python",
   "pygments_lexer": "ipython3",
   "version": "3.8.8"
  },
  "metadata": {
   "interpreter": {
    "hash": "29f5e89dfedf898efe3e6a64f86d1a653ede48a3edabdd8aee99194919683b52"
   }
  },
  "interpreter": {
   "hash": "6e1566eebc1c1be0cd319d6a0d9b35248b6256674f9d8a85f0e918d1ebc9692f"
  }
 },
 "nbformat": 4,
 "nbformat_minor": 4
}