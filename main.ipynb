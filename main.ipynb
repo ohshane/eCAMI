{
 "cells": [
  {
   "cell_type": "code",
   "execution_count": 1,
   "metadata": {
    "tags": []
   },
   "outputs": [
    {
     "output_type": "stream",
     "name": "stdout",
     "text": [
      "Protein DF shape: (1066326, 3)\n",
      "Unique protein DF shape: (636611, 3)\n",
      "/home/sunmoon/workspace/eCAMI/proteinIO/preprocessing.py:21: SettingWithCopyWarning: \n",
      "A value is trying to be set on a copy of a slice from a DataFrame.\n",
      "Try using .loc[row_indexer,col_indexer] = value instead\n",
      "\n",
      "See the caveats in the documentation: https://pandas.pydata.org/pandas-docs/stable/user_guide/indexing.html#returning-a-view-versus-a-copy\n",
      "  temp_row['families'] = temp_family\n",
      "1187it [00:00, 11862.86it/s]Manipulated unmatched family protein (keep=\"union\") DF shape: (636599, 3)\n",
      "636599it [00:49, 12749.47it/s]\n",
      "Exported: out.fa\n"
     ]
    }
   ],
   "source": [
    "from pathlib import Path\n",
    "import os\n",
    "\n",
    "from proteinIO import fastaIO\n",
    "from proteinIO import preprocessing\n",
    "\n",
    "from profast.kmer import KMerClassifier\n",
    "\n",
    "\n",
    "__file__ = os.getcwd()\n",
    "paths = [Path(__file__) / 'data' / 'dbCAN2' / 'CAZyDB.2018.fa']\n",
    "\n",
    "proteins = fastaIO.read(paths)\n",
    "proteins = preprocessing.manipulate_duplicates(proteins, keep='union')\n",
    "\n",
    "fastaIO.write(proteins)\n",
    "\n",
    "proteins = preprocessing.series2object(proteins)\n",
    "shape = preprocessing.shape(proteins)"
   ]
  },
  {
   "cell_type": "code",
   "execution_count": 10,
   "metadata": {},
   "outputs": [
    {
     "output_type": "stream",
     "name": "stdout",
     "text": [
      "Protein DF shape: (636598, 3)\n"
     ]
    }
   ],
   "source": [
    "from pathlib import Path\n",
    "import os\n",
    "\n",
    "from proteinIO import fastaIO\n",
    "from proteinIO import preprocessing\n",
    "\n",
    "from profast.kmer import KMerClassifier\n",
    "\n",
    "\n",
    "__file__ = os.getcwd()\n",
    "paths = [Path(__file__) / 'data' / 'dbCAN2' / 'out.fa']\n",
    "\n",
    "proteins = fastaIO.read(paths)\n",
    "proteins = preprocessing.series2object(proteins)\n",
    "shape = preprocessing.shape(proteins)"
   ]
  },
  {
   "cell_type": "code",
   "execution_count": 11,
   "metadata": {},
   "outputs": [
    {
     "output_type": "stream",
     "name": "stdout",
     "text": [
      "fitting families:\n",
      "[]\n",
      "{}\n"
     ]
    }
   ],
   "source": [
    "from profast.kmer import KMerClassifier\n",
    "\n",
    "kmc = KMerClassifier()\n",
    "result = kmc.fit(proteins, shape=shape, families=['PL21'])"
   ]
  }
 ],
 "metadata": {
  "kernelspec": {
   "name": "python3",
   "display_name": "Python 3.8.8 64-bit ('anaconda3-2021.05': pyenv)"
  },
  "language_info": {
   "codemirror_mode": {
    "name": "ipython",
    "version": 3
   },
   "file_extension": ".py",
   "mimetype": "text/x-python",
   "name": "python",
   "nbconvert_exporter": "python",
   "pygments_lexer": "ipython3",
   "version": "3.8.8"
  },
  "metadata": {
   "interpreter": {
    "hash": "29f5e89dfedf898efe3e6a64f86d1a653ede48a3edabdd8aee99194919683b52"
   }
  },
  "interpreter": {
   "hash": "6e1566eebc1c1be0cd319d6a0d9b35248b6256674f9d8a85f0e918d1ebc9692f"
  }
 },
 "nbformat": 4,
 "nbformat_minor": 4
}