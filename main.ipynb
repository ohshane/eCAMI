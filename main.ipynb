{
 "cells": [
  {
   "cell_type": "code",
   "execution_count": 1,
   "metadata": {},
   "outputs": [
    {
     "output_type": "stream",
     "name": "stdout",
     "text": [
      "Protein DF shape: (13, 3)\n",
      "Unique protein DF shape: (12, 3)\n",
      "GT2\n",
      "GT2|GT4\n",
      "CBM67|GH2\n",
      "GT2\n",
      "GH13_16\n",
      "GH13_39\n",
      "GT30\n",
      "GH13|GH13_3I\n",
      "GT4|GT4_1\n",
      "CBM48|GH13|GH13_11|CBM48|GH13_13\n",
      "Manipulated unmatched family protein (keep=\"union\") DF shape: (10, 3)\n",
      "/home/shane/workspace/eCAMI/Fast/ProteinIO/FastaIO.py:102: SettingWithCopyWarning: \n",
      "A value is trying to be set on a copy of a slice from a DataFrame.\n",
      "Try using .loc[row_indexer,col_indexer] = value instead\n",
      "\n",
      "See the caveats in the documentation: https://pandas.pydata.org/pandas-docs/stable/user_guide/indexing.html#returning-a-view-versus-a-copy\n",
      "  temp_row['families'] = temp_family\n"
     ]
    },
    {
     "output_type": "execute_result",
     "data": {
      "text/plain": [
       "           id                          families  \\\n",
       "0  AWI06118.1                               GT2   \n",
       "1  AWI89010.1                           GT2|GT4   \n",
       "2  AWI10406.1                         CBM67|GH2   \n",
       "3  AWI12419.1                               GT2   \n",
       "4  AWI89492.1                           GH13_16   \n",
       "5  AWH76650.1                           GH13_39   \n",
       "6  AWH30401.1                              GT30   \n",
       "7  AWI53582.1                      GH13|GH13_3I   \n",
       "8  AWG68601.1                         GT4|GT4_1   \n",
       "9  AWH87604.1  CBM48|GH13|GH13_11|CBM48|GH13_13   \n",
       "\n",
       "                                            sequence  \n",
       "0  MLSVVVPVYNEEKNVEELVKRIKAVLTNIEYEIVFVDDSVDNTPQI...  \n",
       "1  MIKLPKLFRPKRRDAATAAPFFDPAFYRSAYPDVAAGGGDPLRHYL...  \n",
       "2  MNQPKLHVLLLAALASLVLAPAALAQRETHNLNLDWRLHVGDPVRA...  \n",
       "3  MVERNETVSILIPFYNCPYVGQAVQSALAQSYPHIEVIVIDDGSTM...  \n",
       "4  MIDRSDPQWYRDAIIYQIHVKSFFDSSNDGIGDFEGLTQKLDYVRD...  \n",
       "5  MQSVIEYNSWDKNFKAPFGALKFDEELNICVKVNEGYNVKSIFLEI...  \n",
       "6  MRKDPVEWILRGLYSAVLYILLPITVYHLVWRGFRVREYFRRWDER...  \n",
       "7  MPRKANTEPRTPPPQLVGAPHEGRARAVIDAVLPHVDAGRFAVKCI...  \n",
       "8  MSTSRVAIVHERFTEFGGSELVVAEFMKTWPQAKVFAPITEPHCRR...  \n",
       "9  MTVTLTAGSPYPLGSHFDGQGVNFALYSTQADNVELCLFNQDGEEQ...  "
      ],
      "text/html": "<div>\n<style scoped>\n    .dataframe tbody tr th:only-of-type {\n        vertical-align: middle;\n    }\n\n    .dataframe tbody tr th {\n        vertical-align: top;\n    }\n\n    .dataframe thead th {\n        text-align: right;\n    }\n</style>\n<table border=\"1\" class=\"dataframe\">\n  <thead>\n    <tr style=\"text-align: right;\">\n      <th></th>\n      <th>id</th>\n      <th>families</th>\n      <th>sequence</th>\n    </tr>\n  </thead>\n  <tbody>\n    <tr>\n      <th>0</th>\n      <td>AWI06118.1</td>\n      <td>GT2</td>\n      <td>MLSVVVPVYNEEKNVEELVKRIKAVLTNIEYEIVFVDDSVDNTPQI...</td>\n    </tr>\n    <tr>\n      <th>1</th>\n      <td>AWI89010.1</td>\n      <td>GT2|GT4</td>\n      <td>MIKLPKLFRPKRRDAATAAPFFDPAFYRSAYPDVAAGGGDPLRHYL...</td>\n    </tr>\n    <tr>\n      <th>2</th>\n      <td>AWI10406.1</td>\n      <td>CBM67|GH2</td>\n      <td>MNQPKLHVLLLAALASLVLAPAALAQRETHNLNLDWRLHVGDPVRA...</td>\n    </tr>\n    <tr>\n      <th>3</th>\n      <td>AWI12419.1</td>\n      <td>GT2</td>\n      <td>MVERNETVSILIPFYNCPYVGQAVQSALAQSYPHIEVIVIDDGSTM...</td>\n    </tr>\n    <tr>\n      <th>4</th>\n      <td>AWI89492.1</td>\n      <td>GH13_16</td>\n      <td>MIDRSDPQWYRDAIIYQIHVKSFFDSSNDGIGDFEGLTQKLDYVRD...</td>\n    </tr>\n    <tr>\n      <th>5</th>\n      <td>AWH76650.1</td>\n      <td>GH13_39</td>\n      <td>MQSVIEYNSWDKNFKAPFGALKFDEELNICVKVNEGYNVKSIFLEI...</td>\n    </tr>\n    <tr>\n      <th>6</th>\n      <td>AWH30401.1</td>\n      <td>GT30</td>\n      <td>MRKDPVEWILRGLYSAVLYILLPITVYHLVWRGFRVREYFRRWDER...</td>\n    </tr>\n    <tr>\n      <th>7</th>\n      <td>AWI53582.1</td>\n      <td>GH13|GH13_3I</td>\n      <td>MPRKANTEPRTPPPQLVGAPHEGRARAVIDAVLPHVDAGRFAVKCI...</td>\n    </tr>\n    <tr>\n      <th>8</th>\n      <td>AWG68601.1</td>\n      <td>GT4|GT4_1</td>\n      <td>MSTSRVAIVHERFTEFGGSELVVAEFMKTWPQAKVFAPITEPHCRR...</td>\n    </tr>\n    <tr>\n      <th>9</th>\n      <td>AWH87604.1</td>\n      <td>CBM48|GH13|GH13_11|CBM48|GH13_13</td>\n      <td>MTVTLTAGSPYPLGSHFDGQGVNFALYSTQADNVELCLFNQDGEEQ...</td>\n    </tr>\n  </tbody>\n</table>\n</div>"
     },
     "metadata": {},
     "execution_count": 1
    }
   ],
   "source": [
    "from Fast.ProteinIO import FastaIO\n",
    "from pathlib import Path\n",
    "import os\n",
    "\n",
    "from Fast.ProteinIO import FastaIO\n",
    "\n",
    "__file__ = os.getcwd()\n",
    "paths = [Path(__file__) / 'data' / 'dbCAN2' / 'CAZyDB.mini.fa']\n",
    "\n",
    "proteins = FastaIO.read(paths)\n",
    "proteins = FastaIO.manipulate_duplicates(proteins, keep='union')\n",
    "proteins"
   ]
  }
 ],
 "metadata": {
  "kernelspec": {
   "name": "python385jvsc74a57bd0984324a7450a2c914db349cb2a66403216f22dfe40e8a2d077ea2b929474934c",
   "display_name": "Python 3.8.5 64-bit ('anaconda3-2020.11': pyenv)"
  },
  "language_info": {
   "codemirror_mode": {
    "name": "ipython",
    "version": 3
   },
   "file_extension": ".py",
   "mimetype": "text/x-python",
   "name": "python",
   "nbconvert_exporter": "python",
   "pygments_lexer": "ipython3",
   "version": "3.8.5"
  },
  "metadata": {
   "interpreter": {
    "hash": "29f5e89dfedf898efe3e6a64f86d1a653ede48a3edabdd8aee99194919683b52"
   }
  }
 },
 "nbformat": 4,
 "nbformat_minor": 4
}